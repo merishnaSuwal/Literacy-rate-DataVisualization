{
 "cells": [
  {
   "cell_type": "code",
   "execution_count": 4,
   "metadata": {},
   "outputs": [],
   "source": [
    "import numpy as np\n",
    "import pandas as pd"
   ]
  },
  {
   "cell_type": "code",
   "execution_count": 2,
   "metadata": {},
   "outputs": [],
   "source": [
    "import matplotlib.pyplot as plt"
   ]
  },
  {
   "cell_type": "code",
   "execution_count": 3,
   "metadata": {},
   "outputs": [],
   "source": [
    "import seaborn as sns\n",
    "%matplotlib inline"
   ]
  },
  {
   "cell_type": "code",
   "execution_count": 5,
   "metadata": {},
   "outputs": [],
   "source": [
    "df = pd.read_csv('Literacy rate status by age group 15 - 24 (2013).csv')"
   ]
  },
  {
   "cell_type": "code",
   "execution_count": 7,
   "metadata": {},
   "outputs": [
    {
     "data": {
      "text/html": [
       "<div>\n",
       "<style scoped>\n",
       "    .dataframe tbody tr th:only-of-type {\n",
       "        vertical-align: middle;\n",
       "    }\n",
       "\n",
       "    .dataframe tbody tr th {\n",
       "        vertical-align: top;\n",
       "    }\n",
       "\n",
       "    .dataframe thead th {\n",
       "        text-align: right;\n",
       "    }\n",
       "</style>\n",
       "<table border=\"1\" class=\"dataframe\">\n",
       "  <thead>\n",
       "    <tr style=\"text-align: right;\">\n",
       "      <th></th>\n",
       "      <th>District</th>\n",
       "      <th>Zone</th>\n",
       "      <th>Geographical Region</th>\n",
       "      <th>Development Region</th>\n",
       "      <th>Sub Group</th>\n",
       "      <th>Male /Female</th>\n",
       "      <th>Value</th>\n",
       "    </tr>\n",
       "  </thead>\n",
       "  <tbody>\n",
       "    <tr>\n",
       "      <th>0</th>\n",
       "      <td>Taplejung</td>\n",
       "      <td>Mechi</td>\n",
       "      <td>Mountain</td>\n",
       "      <td>Eastern</td>\n",
       "      <td>Literate Population by age 15 - 24</td>\n",
       "      <td>Male</td>\n",
       "      <td>11483</td>\n",
       "    </tr>\n",
       "    <tr>\n",
       "      <th>1</th>\n",
       "      <td>Taplejung</td>\n",
       "      <td>Mechi</td>\n",
       "      <td>Mountain</td>\n",
       "      <td>Eastern</td>\n",
       "      <td>Literate Population by age 15 - 24</td>\n",
       "      <td>Female</td>\n",
       "      <td>13133</td>\n",
       "    </tr>\n",
       "    <tr>\n",
       "      <th>2</th>\n",
       "      <td>Taplejung</td>\n",
       "      <td>Mechi</td>\n",
       "      <td>Mountain</td>\n",
       "      <td>Eastern</td>\n",
       "      <td>Total Population by age 15 - 24</td>\n",
       "      <td>Male</td>\n",
       "      <td>12116</td>\n",
       "    </tr>\n",
       "    <tr>\n",
       "      <th>3</th>\n",
       "      <td>Taplejung</td>\n",
       "      <td>Mechi</td>\n",
       "      <td>Mountain</td>\n",
       "      <td>Eastern</td>\n",
       "      <td>Total Population by age 15 - 24</td>\n",
       "      <td>Female</td>\n",
       "      <td>14176</td>\n",
       "    </tr>\n",
       "    <tr>\n",
       "      <th>4</th>\n",
       "      <td>Panchthar</td>\n",
       "      <td>Mechi</td>\n",
       "      <td>Hill</td>\n",
       "      <td>Eastern</td>\n",
       "      <td>Literate Population by age 15 - 24</td>\n",
       "      <td>Male</td>\n",
       "      <td>17228</td>\n",
       "    </tr>\n",
       "  </tbody>\n",
       "</table>\n",
       "</div>"
      ],
      "text/plain": [
       "    District   Zone Geographical Region Development Region  \\\n",
       "0  Taplejung  Mechi            Mountain            Eastern   \n",
       "1  Taplejung  Mechi            Mountain            Eastern   \n",
       "2  Taplejung  Mechi            Mountain            Eastern   \n",
       "3  Taplejung  Mechi            Mountain            Eastern   \n",
       "4  Panchthar  Mechi                Hill            Eastern   \n",
       "\n",
       "                             Sub Group Male /Female  Value  \n",
       "0  Literate Population by age 15 - 24         Male   11483  \n",
       "1  Literate Population by age 15 - 24       Female   13133  \n",
       "2     Total Population by age 15 - 24         Male   12116  \n",
       "3     Total Population by age 15 - 24       Female   14176  \n",
       "4  Literate Population by age 15 - 24         Male   17228  "
      ]
     },
     "execution_count": 7,
     "metadata": {},
     "output_type": "execute_result"
    }
   ],
   "source": [
    "df.head()"
   ]
  },
  {
   "cell_type": "code",
   "execution_count": 8,
   "metadata": {},
   "outputs": [
    {
     "data": {
      "text/plain": [
       "array(['Male ', 'Female '], dtype=object)"
      ]
     },
     "execution_count": 8,
     "metadata": {},
     "output_type": "execute_result"
    }
   ],
   "source": [
    "df['Male /Female'].unique()"
   ]
  },
  {
   "cell_type": "code",
   "execution_count": 11,
   "metadata": {},
   "outputs": [],
   "source": [
    "df_male = df[df['Male /Female']== 'Male ']"
   ]
  },
  {
   "cell_type": "code",
   "execution_count": 13,
   "metadata": {},
   "outputs": [
    {
     "data": {
      "text/html": [
       "<div>\n",
       "<style scoped>\n",
       "    .dataframe tbody tr th:only-of-type {\n",
       "        vertical-align: middle;\n",
       "    }\n",
       "\n",
       "    .dataframe tbody tr th {\n",
       "        vertical-align: top;\n",
       "    }\n",
       "\n",
       "    .dataframe thead th {\n",
       "        text-align: right;\n",
       "    }\n",
       "</style>\n",
       "<table border=\"1\" class=\"dataframe\">\n",
       "  <thead>\n",
       "    <tr style=\"text-align: right;\">\n",
       "      <th></th>\n",
       "      <th>District</th>\n",
       "      <th>Zone</th>\n",
       "      <th>Geographical Region</th>\n",
       "      <th>Development Region</th>\n",
       "      <th>Sub Group</th>\n",
       "      <th>Male /Female</th>\n",
       "      <th>Value</th>\n",
       "    </tr>\n",
       "  </thead>\n",
       "  <tbody>\n",
       "    <tr>\n",
       "      <th>0</th>\n",
       "      <td>Taplejung</td>\n",
       "      <td>Mechi</td>\n",
       "      <td>Mountain</td>\n",
       "      <td>Eastern</td>\n",
       "      <td>Literate Population by age 15 - 24</td>\n",
       "      <td>Male</td>\n",
       "      <td>11483</td>\n",
       "    </tr>\n",
       "    <tr>\n",
       "      <th>2</th>\n",
       "      <td>Taplejung</td>\n",
       "      <td>Mechi</td>\n",
       "      <td>Mountain</td>\n",
       "      <td>Eastern</td>\n",
       "      <td>Total Population by age 15 - 24</td>\n",
       "      <td>Male</td>\n",
       "      <td>12116</td>\n",
       "    </tr>\n",
       "    <tr>\n",
       "      <th>4</th>\n",
       "      <td>Panchthar</td>\n",
       "      <td>Mechi</td>\n",
       "      <td>Hill</td>\n",
       "      <td>Eastern</td>\n",
       "      <td>Literate Population by age 15 - 24</td>\n",
       "      <td>Male</td>\n",
       "      <td>17228</td>\n",
       "    </tr>\n",
       "    <tr>\n",
       "      <th>6</th>\n",
       "      <td>Panchthar</td>\n",
       "      <td>Mechi</td>\n",
       "      <td>Hill</td>\n",
       "      <td>Eastern</td>\n",
       "      <td>Total Population by age 15 - 24</td>\n",
       "      <td>Male</td>\n",
       "      <td>17877</td>\n",
       "    </tr>\n",
       "    <tr>\n",
       "      <th>8</th>\n",
       "      <td>Ilam</td>\n",
       "      <td>Mechi</td>\n",
       "      <td>Hill</td>\n",
       "      <td>Eastern</td>\n",
       "      <td>Literate Population by age 15 - 24</td>\n",
       "      <td>Male</td>\n",
       "      <td>27645</td>\n",
       "    </tr>\n",
       "  </tbody>\n",
       "</table>\n",
       "</div>"
      ],
      "text/plain": [
       "    District   Zone Geographical Region Development Region  \\\n",
       "0  Taplejung  Mechi            Mountain            Eastern   \n",
       "2  Taplejung  Mechi            Mountain            Eastern   \n",
       "4  Panchthar  Mechi                Hill            Eastern   \n",
       "6  Panchthar  Mechi                Hill            Eastern   \n",
       "8       Ilam  Mechi                Hill            Eastern   \n",
       "\n",
       "                             Sub Group Male /Female  Value  \n",
       "0  Literate Population by age 15 - 24         Male   11483  \n",
       "2     Total Population by age 15 - 24         Male   12116  \n",
       "4  Literate Population by age 15 - 24         Male   17228  \n",
       "6     Total Population by age 15 - 24         Male   17877  \n",
       "8  Literate Population by age 15 - 24         Male   27645  "
      ]
     },
     "execution_count": 13,
     "metadata": {},
     "output_type": "execute_result"
    }
   ],
   "source": [
    "df_male.head()"
   ]
  },
  {
   "cell_type": "code",
   "execution_count": 14,
   "metadata": {},
   "outputs": [],
   "source": [
    "df_female = df[df['Male /Female']== 'Female ']"
   ]
  },
  {
   "cell_type": "code",
   "execution_count": 15,
   "metadata": {},
   "outputs": [
    {
     "data": {
      "text/html": [
       "<div>\n",
       "<style scoped>\n",
       "    .dataframe tbody tr th:only-of-type {\n",
       "        vertical-align: middle;\n",
       "    }\n",
       "\n",
       "    .dataframe tbody tr th {\n",
       "        vertical-align: top;\n",
       "    }\n",
       "\n",
       "    .dataframe thead th {\n",
       "        text-align: right;\n",
       "    }\n",
       "</style>\n",
       "<table border=\"1\" class=\"dataframe\">\n",
       "  <thead>\n",
       "    <tr style=\"text-align: right;\">\n",
       "      <th></th>\n",
       "      <th>District</th>\n",
       "      <th>Zone</th>\n",
       "      <th>Geographical Region</th>\n",
       "      <th>Development Region</th>\n",
       "      <th>Sub Group</th>\n",
       "      <th>Male /Female</th>\n",
       "      <th>Value</th>\n",
       "    </tr>\n",
       "  </thead>\n",
       "  <tbody>\n",
       "    <tr>\n",
       "      <th>1</th>\n",
       "      <td>Taplejung</td>\n",
       "      <td>Mechi</td>\n",
       "      <td>Mountain</td>\n",
       "      <td>Eastern</td>\n",
       "      <td>Literate Population by age 15 - 24</td>\n",
       "      <td>Female</td>\n",
       "      <td>13133</td>\n",
       "    </tr>\n",
       "    <tr>\n",
       "      <th>3</th>\n",
       "      <td>Taplejung</td>\n",
       "      <td>Mechi</td>\n",
       "      <td>Mountain</td>\n",
       "      <td>Eastern</td>\n",
       "      <td>Total Population by age 15 - 24</td>\n",
       "      <td>Female</td>\n",
       "      <td>14176</td>\n",
       "    </tr>\n",
       "    <tr>\n",
       "      <th>5</th>\n",
       "      <td>Panchthar</td>\n",
       "      <td>Mechi</td>\n",
       "      <td>Hill</td>\n",
       "      <td>Eastern</td>\n",
       "      <td>Literate Population by age 15 - 24</td>\n",
       "      <td>Female</td>\n",
       "      <td>21424</td>\n",
       "    </tr>\n",
       "    <tr>\n",
       "      <th>7</th>\n",
       "      <td>Panchthar</td>\n",
       "      <td>Mechi</td>\n",
       "      <td>Hill</td>\n",
       "      <td>Eastern</td>\n",
       "      <td>Total Population by age 15 - 24</td>\n",
       "      <td>Female</td>\n",
       "      <td>22519</td>\n",
       "    </tr>\n",
       "    <tr>\n",
       "      <th>9</th>\n",
       "      <td>Ilam</td>\n",
       "      <td>Mechi</td>\n",
       "      <td>Hill</td>\n",
       "      <td>Eastern</td>\n",
       "      <td>Literate Population by age 15 - 24</td>\n",
       "      <td>Female</td>\n",
       "      <td>32077</td>\n",
       "    </tr>\n",
       "  </tbody>\n",
       "</table>\n",
       "</div>"
      ],
      "text/plain": [
       "    District   Zone Geographical Region Development Region  \\\n",
       "1  Taplejung  Mechi            Mountain            Eastern   \n",
       "3  Taplejung  Mechi            Mountain            Eastern   \n",
       "5  Panchthar  Mechi                Hill            Eastern   \n",
       "7  Panchthar  Mechi                Hill            Eastern   \n",
       "9       Ilam  Mechi                Hill            Eastern   \n",
       "\n",
       "                             Sub Group Male /Female  Value  \n",
       "1  Literate Population by age 15 - 24       Female   13133  \n",
       "3     Total Population by age 15 - 24       Female   14176  \n",
       "5  Literate Population by age 15 - 24       Female   21424  \n",
       "7     Total Population by age 15 - 24       Female   22519  \n",
       "9  Literate Population by age 15 - 24       Female   32077  "
      ]
     },
     "execution_count": 15,
     "metadata": {},
     "output_type": "execute_result"
    }
   ],
   "source": [
    "df_female.head()"
   ]
  },
  {
   "cell_type": "code",
   "execution_count": 18,
   "metadata": {},
   "outputs": [
    {
     "data": {
      "text/plain": [
       "<seaborn.axisgrid.FacetGrid at 0x7f2602d1f450>"
      ]
     },
     "execution_count": 18,
     "metadata": {},
     "output_type": "execute_result"
    },
    {
     "data": {
      "image/png": "[encoded data removed]",
      "text/plain": [
       "<matplotlib.figure.Figure at 0x7f25dc3e6d90>"
      ]
     },
     "metadata": {},
     "output_type": "display_data"
    }
   ],
   "source": [
    "sns.factorplot(x = 'Development Region', y = 'Value', data = df, \n",
    "               kind = 'bar', hue = 'Male /Female')"
   ]
  },
  {
   "cell_type": "code",
   "execution_count": null,
   "metadata": {},
   "outputs": [],
   "source": []
  }
 ],
 "metadata": {
  "kernelspec": {
   "display_name": "Python 2",
   "language": "python",
   "name": "python2"
  },
  "language_info": {
   "codemirror_mode": {
    "name": "ipython",
    "version": 2
   },
   "file_extension": ".py",
   "mimetype": "text/x-python",
   "name": "python",
   "nbconvert_exporter": "python",
   "pygments_lexer": "ipython2",
   "version": "2.7.14"
  }
 },
 "nbformat": 4,
 "nbformat_minor": 2
}
