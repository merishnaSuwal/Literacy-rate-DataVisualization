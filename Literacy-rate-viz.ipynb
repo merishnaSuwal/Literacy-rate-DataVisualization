{
 "cells": [
  {
   "cell_type": "code",
   "execution_count": 1,
   "metadata": {},
   "outputs": [],
   "source": [
    "import numpy as np\n",
    "import pandas as pd"
   ]
  },
  {
   "cell_type": "code",
   "execution_count": 2,
   "metadata": {},
   "outputs": [],
   "source": [
    "import matplotlib.pyplot as plt"
   ]
  },
  {
   "cell_type": "code",
   "execution_count": 3,
   "metadata": {},
   "outputs": [],
   "source": [
    "import seaborn as sns\n",
    "%matplotlib inline"
   ]
  },
  {
   "cell_type": "markdown",
   "metadata": {},
   "source": [
    "# Literacy rate status by age group 15 - 24 (2013)\n",
    "##### This data set includes literacy rate status by age group 15-24  by literate population and total population for 2013. The data is extracted from Literacy Status Report 2013 submitted to UNESCO Kathmandu ."
   ]
  },
  {
   "cell_type": "code",
   "execution_count": 4,
   "metadata": {},
   "outputs": [],
   "source": [
    "df = pd.read_csv('dataset/Literacy rate status by age group 15 - 24 (2013).csv')"
   ]
  },
  {
   "cell_type": "code",
   "execution_count": 5,
   "metadata": {},
   "outputs": [
    {
     "data": {
      "text/html": [
       "<div>\n",
       "<style scoped>\n",
       "    .dataframe tbody tr th:only-of-type {\n",
       "        vertical-align: middle;\n",
       "    }\n",
       "\n",
       "    .dataframe tbody tr th {\n",
       "        vertical-align: top;\n",
       "    }\n",
       "\n",
       "    .dataframe thead th {\n",
       "        text-align: right;\n",
       "    }\n",
       "</style>\n",
       "<table border=\"1\" class=\"dataframe\">\n",
       "  <thead>\n",
       "    <tr style=\"text-align: right;\">\n",
       "      <th></th>\n",
       "      <th>District</th>\n",
       "      <th>Zone</th>\n",
       "      <th>Geographical Region</th>\n",
       "      <th>Development Region</th>\n",
       "      <th>Sub Group</th>\n",
       "      <th>Male /Female</th>\n",
       "      <th>Value</th>\n",
       "    </tr>\n",
       "  </thead>\n",
       "  <tbody>\n",
       "    <tr>\n",
       "      <th>0</th>\n",
       "      <td>Taplejung</td>\n",
       "      <td>Mechi</td>\n",
       "      <td>Mountain</td>\n",
       "      <td>Eastern</td>\n",
       "      <td>Literate Population by age 15 - 24</td>\n",
       "      <td>Male</td>\n",
       "      <td>11483</td>\n",
       "    </tr>\n",
       "    <tr>\n",
       "      <th>1</th>\n",
       "      <td>Taplejung</td>\n",
       "      <td>Mechi</td>\n",
       "      <td>Mountain</td>\n",
       "      <td>Eastern</td>\n",
       "      <td>Literate Population by age 15 - 24</td>\n",
       "      <td>Female</td>\n",
       "      <td>13133</td>\n",
       "    </tr>\n",
       "    <tr>\n",
       "      <th>2</th>\n",
       "      <td>Taplejung</td>\n",
       "      <td>Mechi</td>\n",
       "      <td>Mountain</td>\n",
       "      <td>Eastern</td>\n",
       "      <td>Total Population by age 15 - 24</td>\n",
       "      <td>Male</td>\n",
       "      <td>12116</td>\n",
       "    </tr>\n",
       "    <tr>\n",
       "      <th>3</th>\n",
       "      <td>Taplejung</td>\n",
       "      <td>Mechi</td>\n",
       "      <td>Mountain</td>\n",
       "      <td>Eastern</td>\n",
       "      <td>Total Population by age 15 - 24</td>\n",
       "      <td>Female</td>\n",
       "      <td>14176</td>\n",
       "    </tr>\n",
       "    <tr>\n",
       "      <th>4</th>\n",
       "      <td>Panchthar</td>\n",
       "      <td>Mechi</td>\n",
       "      <td>Hill</td>\n",
       "      <td>Eastern</td>\n",
       "      <td>Literate Population by age 15 - 24</td>\n",
       "      <td>Male</td>\n",
       "      <td>17228</td>\n",
       "    </tr>\n",
       "  </tbody>\n",
       "</table>\n",
       "</div>"
      ],
      "text/plain": [
       "    District   Zone Geographical Region Development Region  \\\n",
       "0  Taplejung  Mechi            Mountain            Eastern   \n",
       "1  Taplejung  Mechi            Mountain            Eastern   \n",
       "2  Taplejung  Mechi            Mountain            Eastern   \n",
       "3  Taplejung  Mechi            Mountain            Eastern   \n",
       "4  Panchthar  Mechi                Hill            Eastern   \n",
       "\n",
       "                             Sub Group Male /Female  Value  \n",
       "0  Literate Population by age 15 - 24         Male   11483  \n",
       "1  Literate Population by age 15 - 24       Female   13133  \n",
       "2     Total Population by age 15 - 24         Male   12116  \n",
       "3     Total Population by age 15 - 24       Female   14176  \n",
       "4  Literate Population by age 15 - 24         Male   17228  "
      ]
     },
     "execution_count": 5,
     "metadata": {},
     "output_type": "execute_result"
    }
   ],
   "source": [
    "df.head()"
   ]
  },
  {
   "cell_type": "markdown",
   "metadata": {},
   "source": [
    "## Selecting only the literate population proportion"
   ]
  },
  {
   "cell_type": "code",
   "execution_count": 6,
   "metadata": {},
   "outputs": [
    {
     "data": {
      "text/plain": [
       "array(['Literate Population by age 15 - 24 ',\n",
       "       'Total Population by age 15 - 24 '], dtype=object)"
      ]
     },
     "execution_count": 6,
     "metadata": {},
     "output_type": "execute_result"
    }
   ],
   "source": [
    "df['Sub Group'].unique()"
   ]
  },
  {
   "cell_type": "code",
   "execution_count": 7,
   "metadata": {},
   "outputs": [],
   "source": [
    "df_literate = df[df['Sub Group'] == 'Literate Population by age 15 - 24 ']"
   ]
  },
  {
   "cell_type": "code",
   "execution_count": 8,
   "metadata": {},
   "outputs": [
    {
     "data": {
      "text/html": [
       "<div>\n",
       "<style scoped>\n",
       "    .dataframe tbody tr th:only-of-type {\n",
       "        vertical-align: middle;\n",
       "    }\n",
       "\n",
       "    .dataframe tbody tr th {\n",
       "        vertical-align: top;\n",
       "    }\n",
       "\n",
       "    .dataframe thead th {\n",
       "        text-align: right;\n",
       "    }\n",
       "</style>\n",
       "<table border=\"1\" class=\"dataframe\">\n",
       "  <thead>\n",
       "    <tr style=\"text-align: right;\">\n",
       "      <th></th>\n",
       "      <th>District</th>\n",
       "      <th>Zone</th>\n",
       "      <th>Geographical Region</th>\n",
       "      <th>Development Region</th>\n",
       "      <th>Sub Group</th>\n",
       "      <th>Male /Female</th>\n",
       "      <th>Value</th>\n",
       "    </tr>\n",
       "  </thead>\n",
       "  <tbody>\n",
       "    <tr>\n",
       "      <th>0</th>\n",
       "      <td>Taplejung</td>\n",
       "      <td>Mechi</td>\n",
       "      <td>Mountain</td>\n",
       "      <td>Eastern</td>\n",
       "      <td>Literate Population by age 15 - 24</td>\n",
       "      <td>Male</td>\n",
       "      <td>11483</td>\n",
       "    </tr>\n",
       "    <tr>\n",
       "      <th>1</th>\n",
       "      <td>Taplejung</td>\n",
       "      <td>Mechi</td>\n",
       "      <td>Mountain</td>\n",
       "      <td>Eastern</td>\n",
       "      <td>Literate Population by age 15 - 24</td>\n",
       "      <td>Female</td>\n",
       "      <td>13133</td>\n",
       "    </tr>\n",
       "    <tr>\n",
       "      <th>4</th>\n",
       "      <td>Panchthar</td>\n",
       "      <td>Mechi</td>\n",
       "      <td>Hill</td>\n",
       "      <td>Eastern</td>\n",
       "      <td>Literate Population by age 15 - 24</td>\n",
       "      <td>Male</td>\n",
       "      <td>17228</td>\n",
       "    </tr>\n",
       "    <tr>\n",
       "      <th>5</th>\n",
       "      <td>Panchthar</td>\n",
       "      <td>Mechi</td>\n",
       "      <td>Hill</td>\n",
       "      <td>Eastern</td>\n",
       "      <td>Literate Population by age 15 - 24</td>\n",
       "      <td>Female</td>\n",
       "      <td>21424</td>\n",
       "    </tr>\n",
       "    <tr>\n",
       "      <th>8</th>\n",
       "      <td>Ilam</td>\n",
       "      <td>Mechi</td>\n",
       "      <td>Hill</td>\n",
       "      <td>Eastern</td>\n",
       "      <td>Literate Population by age 15 - 24</td>\n",
       "      <td>Male</td>\n",
       "      <td>27645</td>\n",
       "    </tr>\n",
       "  </tbody>\n",
       "</table>\n",
       "</div>"
      ],
      "text/plain": [
       "    District   Zone Geographical Region Development Region  \\\n",
       "0  Taplejung  Mechi            Mountain            Eastern   \n",
       "1  Taplejung  Mechi            Mountain            Eastern   \n",
       "4  Panchthar  Mechi                Hill            Eastern   \n",
       "5  Panchthar  Mechi                Hill            Eastern   \n",
       "8       Ilam  Mechi                Hill            Eastern   \n",
       "\n",
       "                             Sub Group Male /Female  Value  \n",
       "0  Literate Population by age 15 - 24         Male   11483  \n",
       "1  Literate Population by age 15 - 24       Female   13133  \n",
       "4  Literate Population by age 15 - 24         Male   17228  \n",
       "5  Literate Population by age 15 - 24       Female   21424  \n",
       "8  Literate Population by age 15 - 24         Male   27645  "
      ]
     },
     "execution_count": 8,
     "metadata": {},
     "output_type": "execute_result"
    }
   ],
   "source": [
    "df_literate.head()"
   ]
  },
  {
   "cell_type": "markdown",
   "metadata": {},
   "source": [
    "## Plotting Literacy rate for various Development Regions"
   ]
  },
  {
   "cell_type": "code",
   "execution_count": 9,
   "metadata": {},
   "outputs": [
    {
     "data": {
      "text/plain": [
       "<seaborn.axisgrid.FacetGrid at 0x7f494cd85ed0>"
      ]
     },
     "execution_count": 9,
     "metadata": {},
     "output_type": "execute_result"
    },
    {
     "data": {
      "image/png": "[encoded data removed]",
      "text/plain": [
       "<matplotlib.figure.Figure at 0x7f494cd55f10>"
      ]
     },
     "metadata": {},
     "output_type": "display_data"
    }
   ],
   "source": [
    "sns.set_style(\"whitegrid\")\n",
    "g = sns.factorplot(x = 'Development Region', y = 'Value', data = df_literate, \n",
    "               kind = 'bar', hue = 'Male /Female',  \n",
    "               size=6, aspect=1, ci=None, palette= 'coolwarm')\n",
    "g.set(title = 'Gender-wise literacy rate in various development regions')\n",
    "g.set(ylim=(0,45000))"
   ]
  },
  {
   "cell_type": "markdown",
   "metadata": {},
   "source": [
    "### Saving the plot"
   ]
  },
  {
   "cell_type": "code",
   "execution_count": 10,
   "metadata": {},
   "outputs": [],
   "source": [
    "# g.savefig('Plots/Genderwise-Literacyrate.png', dpi = 300)"
   ]
  },
  {
   "cell_type": "code",
   "execution_count": 11,
   "metadata": {},
   "outputs": [
    {
     "data": {
      "text/plain": [
       "array(['Eastern', 'Central', 'Western', 'Mid-Western', 'Far-Western'],\n",
       "      dtype=object)"
      ]
     },
     "execution_count": 11,
     "metadata": {},
     "output_type": "execute_result"
    }
   ],
   "source": [
    "df['Development Region'].unique()"
   ]
  },
  {
   "cell_type": "code",
   "execution_count": 12,
   "metadata": {},
   "outputs": [],
   "source": [
    "df_central = df[df['Development Region']=='Central']"
   ]
  },
  {
   "cell_type": "markdown",
   "metadata": {},
   "source": [
    "## Selecting only the literate population proportion of the central region"
   ]
  },
  {
   "cell_type": "code",
   "execution_count": 13,
   "metadata": {},
   "outputs": [
    {
     "data": {
      "text/plain": [
       "array(['Literate Population by age 15 - 24 ',\n",
       "       'Total Population by age 15 - 24 '], dtype=object)"
      ]
     },
     "execution_count": 13,
     "metadata": {},
     "output_type": "execute_result"
    }
   ],
   "source": [
    "df_central['Sub Group'].unique()"
   ]
  },
  {
   "cell_type": "code",
   "execution_count": 14,
   "metadata": {},
   "outputs": [],
   "source": [
    "df_central_literate = df_central[df_central['Sub Group'] == 'Literate Population by age 15 - 24 ']"
   ]
  },
  {
   "cell_type": "code",
   "execution_count": 15,
   "metadata": {},
   "outputs": [
    {
     "data": {
      "text/html": [
       "<div>\n",
       "<style scoped>\n",
       "    .dataframe tbody tr th:only-of-type {\n",
       "        vertical-align: middle;\n",
       "    }\n",
       "\n",
       "    .dataframe tbody tr th {\n",
       "        vertical-align: top;\n",
       "    }\n",
       "\n",
       "    .dataframe thead th {\n",
       "        text-align: right;\n",
       "    }\n",
       "</style>\n",
       "<table border=\"1\" class=\"dataframe\">\n",
       "  <thead>\n",
       "    <tr style=\"text-align: right;\">\n",
       "      <th></th>\n",
       "      <th>District</th>\n",
       "      <th>Zone</th>\n",
       "      <th>Geographical Region</th>\n",
       "      <th>Development Region</th>\n",
       "      <th>Sub Group</th>\n",
       "      <th>Male /Female</th>\n",
       "      <th>Value</th>\n",
       "    </tr>\n",
       "  </thead>\n",
       "  <tbody>\n",
       "    <tr>\n",
       "      <th>64</th>\n",
       "      <td>Dhanusa</td>\n",
       "      <td>Janakpur</td>\n",
       "      <td>Terai</td>\n",
       "      <td>Central</td>\n",
       "      <td>Literate Population by age 15 - 24</td>\n",
       "      <td>Male</td>\n",
       "      <td>52170</td>\n",
       "    </tr>\n",
       "    <tr>\n",
       "      <th>65</th>\n",
       "      <td>Dhanusa</td>\n",
       "      <td>Janakpur</td>\n",
       "      <td>Terai</td>\n",
       "      <td>Central</td>\n",
       "      <td>Literate Population by age 15 - 24</td>\n",
       "      <td>Female</td>\n",
       "      <td>35374</td>\n",
       "    </tr>\n",
       "    <tr>\n",
       "      <th>68</th>\n",
       "      <td>Mahottari</td>\n",
       "      <td>Janakpur</td>\n",
       "      <td>Terai</td>\n",
       "      <td>Central</td>\n",
       "      <td>Literate Population by age 15 - 24</td>\n",
       "      <td>Male</td>\n",
       "      <td>36146</td>\n",
       "    </tr>\n",
       "    <tr>\n",
       "      <th>69</th>\n",
       "      <td>Mahottari</td>\n",
       "      <td>Janakpur</td>\n",
       "      <td>Terai</td>\n",
       "      <td>Central</td>\n",
       "      <td>Literate Population by age 15 - 24</td>\n",
       "      <td>Female</td>\n",
       "      <td>23931</td>\n",
       "    </tr>\n",
       "    <tr>\n",
       "      <th>72</th>\n",
       "      <td>Sarlahi</td>\n",
       "      <td>Janakpur</td>\n",
       "      <td>Terai</td>\n",
       "      <td>Central</td>\n",
       "      <td>Literate Population by age 15 - 24</td>\n",
       "      <td>Male</td>\n",
       "      <td>46767</td>\n",
       "    </tr>\n",
       "  </tbody>\n",
       "</table>\n",
       "</div>"
      ],
      "text/plain": [
       "     District      Zone Geographical Region Development Region  \\\n",
       "64    Dhanusa  Janakpur               Terai            Central   \n",
       "65    Dhanusa  Janakpur               Terai            Central   \n",
       "68  Mahottari  Janakpur               Terai            Central   \n",
       "69  Mahottari  Janakpur               Terai            Central   \n",
       "72    Sarlahi  Janakpur               Terai            Central   \n",
       "\n",
       "                              Sub Group Male /Female  Value  \n",
       "64  Literate Population by age 15 - 24         Male   52170  \n",
       "65  Literate Population by age 15 - 24       Female   35374  \n",
       "68  Literate Population by age 15 - 24         Male   36146  \n",
       "69  Literate Population by age 15 - 24       Female   23931  \n",
       "72  Literate Population by age 15 - 24         Male   46767  "
      ]
     },
     "execution_count": 15,
     "metadata": {},
     "output_type": "execute_result"
    }
   ],
   "source": [
    "df_central_literate.head()"
   ]
  },
  {
   "cell_type": "markdown",
   "metadata": {},
   "source": [
    "## Plotting Literacy rate for various districts of Central Region"
   ]
  },
  {
   "cell_type": "code",
   "execution_count": 16,
   "metadata": {},
   "outputs": [
    {
     "data": {
      "text/plain": [
       "<seaborn.axisgrid.FacetGrid at 0x7f494cc9c210>"
      ]
     },
     "execution_count": 16,
     "metadata": {},
     "output_type": "execute_result"
    },
    {
     "data": {
      "image/png": "[encoded data removed]",
      "text/plain": [
       "<matplotlib.figure.Figure at 0x7f494cc9c2d0>"
      ]
     },
     "metadata": {},
     "output_type": "display_data"
    }
   ],
   "source": [
    "g1 = sns.factorplot(x = 'District', y = 'Value', data = df_central_literate, \n",
    "               kind = 'bar', hue = 'Male /Female',  \n",
    "               size=9, aspect=1, ci=None, palette = 'Blues_d')\n",
    "g1.set(ylim=(0,250000))\n",
    "g1.set(title='District-wise literacy rate of Central Development Region')\n",
    "g1.set_xticklabels(rotation=80)"
   ]
  },
  {
   "cell_type": "code",
   "execution_count": 17,
   "metadata": {},
   "outputs": [],
   "source": [
    "# g1.savefig('Plots/Regionwise-Literacyrate.png', dpi = 500)"
   ]
  },
  {
   "cell_type": "code",
   "execution_count": 18,
   "metadata": {},
   "outputs": [
    {
     "data": {
      "text/plain": [
       "array(['Male ', 'Female '], dtype=object)"
      ]
     },
     "execution_count": 18,
     "metadata": {},
     "output_type": "execute_result"
    }
   ],
   "source": [
    "df['Male /Female'].unique()"
   ]
  },
  {
   "cell_type": "code",
   "execution_count": 19,
   "metadata": {},
   "outputs": [],
   "source": [
    "df_male = df[df['Male /Female']== 'Male ']"
   ]
  },
  {
   "cell_type": "code",
   "execution_count": 20,
   "metadata": {},
   "outputs": [
    {
     "data": {
      "text/html": [
       "<div>\n",
       "<style scoped>\n",
       "    .dataframe tbody tr th:only-of-type {\n",
       "        vertical-align: middle;\n",
       "    }\n",
       "\n",
       "    .dataframe tbody tr th {\n",
       "        vertical-align: top;\n",
       "    }\n",
       "\n",
       "    .dataframe thead th {\n",
       "        text-align: right;\n",
       "    }\n",
       "</style>\n",
       "<table border=\"1\" class=\"dataframe\">\n",
       "  <thead>\n",
       "    <tr style=\"text-align: right;\">\n",
       "      <th></th>\n",
       "      <th>District</th>\n",
       "      <th>Zone</th>\n",
       "      <th>Geographical Region</th>\n",
       "      <th>Development Region</th>\n",
       "      <th>Sub Group</th>\n",
       "      <th>Male /Female</th>\n",
       "      <th>Value</th>\n",
       "    </tr>\n",
       "  </thead>\n",
       "  <tbody>\n",
       "    <tr>\n",
       "      <th>0</th>\n",
       "      <td>Taplejung</td>\n",
       "      <td>Mechi</td>\n",
       "      <td>Mountain</td>\n",
       "      <td>Eastern</td>\n",
       "      <td>Literate Population by age 15 - 24</td>\n",
       "      <td>Male</td>\n",
       "      <td>11483</td>\n",
       "    </tr>\n",
       "    <tr>\n",
       "      <th>2</th>\n",
       "      <td>Taplejung</td>\n",
       "      <td>Mechi</td>\n",
       "      <td>Mountain</td>\n",
       "      <td>Eastern</td>\n",
       "      <td>Total Population by age 15 - 24</td>\n",
       "      <td>Male</td>\n",
       "      <td>12116</td>\n",
       "    </tr>\n",
       "    <tr>\n",
       "      <th>4</th>\n",
       "      <td>Panchthar</td>\n",
       "      <td>Mechi</td>\n",
       "      <td>Hill</td>\n",
       "      <td>Eastern</td>\n",
       "      <td>Literate Population by age 15 - 24</td>\n",
       "      <td>Male</td>\n",
       "      <td>17228</td>\n",
       "    </tr>\n",
       "    <tr>\n",
       "      <th>6</th>\n",
       "      <td>Panchthar</td>\n",
       "      <td>Mechi</td>\n",
       "      <td>Hill</td>\n",
       "      <td>Eastern</td>\n",
       "      <td>Total Population by age 15 - 24</td>\n",
       "      <td>Male</td>\n",
       "      <td>17877</td>\n",
       "    </tr>\n",
       "    <tr>\n",
       "      <th>8</th>\n",
       "      <td>Ilam</td>\n",
       "      <td>Mechi</td>\n",
       "      <td>Hill</td>\n",
       "      <td>Eastern</td>\n",
       "      <td>Literate Population by age 15 - 24</td>\n",
       "      <td>Male</td>\n",
       "      <td>27645</td>\n",
       "    </tr>\n",
       "  </tbody>\n",
       "</table>\n",
       "</div>"
      ],
      "text/plain": [
       "    District   Zone Geographical Region Development Region  \\\n",
       "0  Taplejung  Mechi            Mountain            Eastern   \n",
       "2  Taplejung  Mechi            Mountain            Eastern   \n",
       "4  Panchthar  Mechi                Hill            Eastern   \n",
       "6  Panchthar  Mechi                Hill            Eastern   \n",
       "8       Ilam  Mechi                Hill            Eastern   \n",
       "\n",
       "                             Sub Group Male /Female  Value  \n",
       "0  Literate Population by age 15 - 24         Male   11483  \n",
       "2     Total Population by age 15 - 24         Male   12116  \n",
       "4  Literate Population by age 15 - 24         Male   17228  \n",
       "6     Total Population by age 15 - 24         Male   17877  \n",
       "8  Literate Population by age 15 - 24         Male   27645  "
      ]
     },
     "execution_count": 20,
     "metadata": {},
     "output_type": "execute_result"
    }
   ],
   "source": [
    "df_male.head()"
   ]
  },
  {
   "cell_type": "code",
   "execution_count": 21,
   "metadata": {},
   "outputs": [],
   "source": [
    "df_female = df[df['Male /Female']== 'Female ']"
   ]
  },
  {
   "cell_type": "code",
   "execution_count": 22,
   "metadata": {},
   "outputs": [
    {
     "data": {
      "text/html": [
       "<div>\n",
       "<style scoped>\n",
       "    .dataframe tbody tr th:only-of-type {\n",
       "        vertical-align: middle;\n",
       "    }\n",
       "\n",
       "    .dataframe tbody tr th {\n",
       "        vertical-align: top;\n",
       "    }\n",
       "\n",
       "    .dataframe thead th {\n",
       "        text-align: right;\n",
       "    }\n",
       "</style>\n",
       "<table border=\"1\" class=\"dataframe\">\n",
       "  <thead>\n",
       "    <tr style=\"text-align: right;\">\n",
       "      <th></th>\n",
       "      <th>District</th>\n",
       "      <th>Zone</th>\n",
       "      <th>Geographical Region</th>\n",
       "      <th>Development Region</th>\n",
       "      <th>Sub Group</th>\n",
       "      <th>Male /Female</th>\n",
       "      <th>Value</th>\n",
       "    </tr>\n",
       "  </thead>\n",
       "  <tbody>\n",
       "    <tr>\n",
       "      <th>1</th>\n",
       "      <td>Taplejung</td>\n",
       "      <td>Mechi</td>\n",
       "      <td>Mountain</td>\n",
       "      <td>Eastern</td>\n",
       "      <td>Literate Population by age 15 - 24</td>\n",
       "      <td>Female</td>\n",
       "      <td>13133</td>\n",
       "    </tr>\n",
       "    <tr>\n",
       "      <th>3</th>\n",
       "      <td>Taplejung</td>\n",
       "      <td>Mechi</td>\n",
       "      <td>Mountain</td>\n",
       "      <td>Eastern</td>\n",
       "      <td>Total Population by age 15 - 24</td>\n",
       "      <td>Female</td>\n",
       "      <td>14176</td>\n",
       "    </tr>\n",
       "    <tr>\n",
       "      <th>5</th>\n",
       "      <td>Panchthar</td>\n",
       "      <td>Mechi</td>\n",
       "      <td>Hill</td>\n",
       "      <td>Eastern</td>\n",
       "      <td>Literate Population by age 15 - 24</td>\n",
       "      <td>Female</td>\n",
       "      <td>21424</td>\n",
       "    </tr>\n",
       "    <tr>\n",
       "      <th>7</th>\n",
       "      <td>Panchthar</td>\n",
       "      <td>Mechi</td>\n",
       "      <td>Hill</td>\n",
       "      <td>Eastern</td>\n",
       "      <td>Total Population by age 15 - 24</td>\n",
       "      <td>Female</td>\n",
       "      <td>22519</td>\n",
       "    </tr>\n",
       "    <tr>\n",
       "      <th>9</th>\n",
       "      <td>Ilam</td>\n",
       "      <td>Mechi</td>\n",
       "      <td>Hill</td>\n",
       "      <td>Eastern</td>\n",
       "      <td>Literate Population by age 15 - 24</td>\n",
       "      <td>Female</td>\n",
       "      <td>32077</td>\n",
       "    </tr>\n",
       "  </tbody>\n",
       "</table>\n",
       "</div>"
      ],
      "text/plain": [
       "    District   Zone Geographical Region Development Region  \\\n",
       "1  Taplejung  Mechi            Mountain            Eastern   \n",
       "3  Taplejung  Mechi            Mountain            Eastern   \n",
       "5  Panchthar  Mechi                Hill            Eastern   \n",
       "7  Panchthar  Mechi                Hill            Eastern   \n",
       "9       Ilam  Mechi                Hill            Eastern   \n",
       "\n",
       "                             Sub Group Male /Female  Value  \n",
       "1  Literate Population by age 15 - 24       Female   13133  \n",
       "3     Total Population by age 15 - 24       Female   14176  \n",
       "5  Literate Population by age 15 - 24       Female   21424  \n",
       "7     Total Population by age 15 - 24       Female   22519  \n",
       "9  Literate Population by age 15 - 24       Female   32077  "
      ]
     },
     "execution_count": 22,
     "metadata": {},
     "output_type": "execute_result"
    }
   ],
   "source": [
    "df_female.head()"
   ]
  },
  {
   "cell_type": "code",
   "execution_count": 23,
   "metadata": {},
   "outputs": [
    {
     "data": {
      "text/plain": [
       "array(['Mountain', 'Hill', 'Terai'], dtype=object)"
      ]
     },
     "execution_count": 23,
     "metadata": {},
     "output_type": "execute_result"
    }
   ],
   "source": [
    "df['Geographical Region'].unique()"
   ]
  },
  {
   "cell_type": "code",
   "execution_count": 24,
   "metadata": {},
   "outputs": [
    {
     "data": {
      "text/plain": [
       "<seaborn.axisgrid.FacetGrid at 0x7f494cd8e050>"
      ]
     },
     "execution_count": 24,
     "metadata": {},
     "output_type": "execute_result"
    },
    {
     "data": {
      "image/png": "[encoded data removed]",
      "text/plain": [
       "<matplotlib.figure.Figure at 0x7f494cd85e10>"
      ]
     },
     "metadata": {},
     "output_type": "display_data"
    }
   ],
   "source": [
    "g = sns.factorplot(x=\"District\", y=\"Value\",\n",
    "                    col=\"Geographical Region\",ci= None,\n",
    "                   data=df_central_literate, kind=\"bar\",\n",
    "                   size=11, aspect=0.5);\n",
    "g.set_titles(\"{col_name} {col_var}\")\n",
    "g.set_xticklabels(rotation=90)"
   ]
  },
  {
   "cell_type": "code",
   "execution_count": 25,
   "metadata": {},
   "outputs": [],
   "source": [
    "# g.savefig('Plots/Development-Regionwise-plot.png', dpi = 500)"
   ]
  },
  {
   "cell_type": "code",
   "execution_count": null,
   "metadata": {},
   "outputs": [],
   "source": []
  }
 ],
 "metadata": {
  "kernelspec": {
   "display_name": "Python 2",
   "language": "python",
   "name": "python2"
  },
  "language_info": {
   "codemirror_mode": {
    "name": "ipython",
    "version": 2
   },
   "file_extension": ".py",
   "mimetype": "text/x-python",
   "name": "python",
   "nbconvert_exporter": "python",
   "pygments_lexer": "ipython2",
   "version": "2.7.14"
  }
 },
 "nbformat": 4,
 "nbformat_minor": 2
}
